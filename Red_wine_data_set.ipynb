{
  "nbformat": 4,
  "nbformat_minor": 0,
  "metadata": {
    "colab": {
      "private_outputs": true,
      "provenance": [],
      "authorship_tag": "ABX9TyNCnZJuTjVl45MPOS6y3wmy",
      "include_colab_link": true
    },
    "kernelspec": {
      "name": "python3",
      "display_name": "Python 3"
    },
    "language_info": {
      "name": "python"
    }
  },
  "cells": [
    {
      "cell_type": "markdown",
      "metadata": {
        "id": "view-in-github",
        "colab_type": "text"
      },
      "source": [
        "<a href=\"https://colab.research.google.com/github/deepshikhachadokar/EDA_project/blob/main/Red_wine_data_set.ipynb\" target=\"_parent\"><img src=\"https://colab.research.google.com/assets/colab-badge.svg\" alt=\"Open In Colab\"/></a>"
      ]
    },
    {
      "cell_type": "code",
      "execution_count": null,
      "metadata": {
        "id": "IFBrnssuDAvo"
      },
      "outputs": [],
      "source": [
        "# importing liberaries\n",
        "import numpy as np\n",
        "import pandas as pd\n",
        "import matplotlib.pyplot as plt\n",
        "import seaborn as sns"
      ]
    },
    {
      "cell_type": "code",
      "source": [
        "# import the dataset\n",
        "from google.colab import drive\n",
        "drive.mount('/content/drive')"
      ],
      "metadata": {
        "id": "aoviVLkfFAyN"
      },
      "execution_count": null,
      "outputs": []
    },
    {
      "cell_type": "code",
      "source": [
        "df=pd.read_csv('/content/drive/My Drive/csv/wineQualityRed.csv')"
      ],
      "metadata": {
        "id": "_doLJnq8FVN4"
      },
      "execution_count": null,
      "outputs": []
    },
    {
      "cell_type": "code",
      "source": [
        "df.head()"
      ],
      "metadata": {
        "id": "b_aUEz4KGHAa"
      },
      "execution_count": null,
      "outputs": []
    },
    {
      "cell_type": "code",
      "source": [
        "# summary of the dataset\n",
        "df.info()\n",
        "# no null values present in these datset"
      ],
      "metadata": {
        "id": "qC20LyU6GJ2x"
      },
      "execution_count": null,
      "outputs": []
    },
    {
      "cell_type": "code",
      "source": [
        "# let's see the descriptive summary of the dataset\n",
        "df.describe()"
      ],
      "metadata": {
        "id": "1jJvElqeGb9I"
      },
      "execution_count": null,
      "outputs": []
    },
    {
      "cell_type": "code",
      "source": [
        "# let's see the shape of dataset\n",
        "df.shape\n",
        "# we have 1599 rows and 13 columns present in the dataset\n"
      ],
      "metadata": {
        "id": "oH9B_OgPG_7g"
      },
      "execution_count": null,
      "outputs": []
    },
    {
      "cell_type": "code",
      "source": [
        "# let's see the column name of the dataset\n",
        "df.columns\n",
        "\n"
      ],
      "metadata": {
        "id": "X6nuUmeWHvJv"
      },
      "execution_count": null,
      "outputs": []
    },
    {
      "cell_type": "code",
      "source": [
        "# we have a categorical data and we have quality for deciding quality of winw\n",
        "# let's see the distinct no of quality\n",
        "df['quality'].unique()"
      ],
      "metadata": {
        "id": "TjuhXpvdH-iz"
      },
      "execution_count": null,
      "outputs": []
    },
    {
      "cell_type": "code",
      "source": [
        "# let's count the value of quality column\n",
        "df['quality'].value_counts()"
      ],
      "metadata": {
        "id": "wdw1epvWNstA"
      },
      "execution_count": null,
      "outputs": []
    },
    {
      "cell_type": "markdown",
      "source": [
        "We have highest number of wines of\n",
        " rating (5)\n",
        "\n",
        " CONCLUSION=these given dataset is a imbalanced dataset because wines are not present in a fixed praportion."
      ],
      "metadata": {
        "id": "rXts2YvFOO_3"
      }
    },
    {
      "cell_type": "code",
      "source": [
        "# checking for missing values\n",
        "df.isnull().sum()\n",
        "# there is no missing value present in the dataset\n"
      ],
      "metadata": {
        "id": "hVkuzjYqOGPi"
      },
      "execution_count": null,
      "outputs": []
    },
    {
      "cell_type": "code",
      "source": [
        "df.notnull().sum()\n",
        "# here is the another way we can easily see the 1599 rows present"
      ],
      "metadata": {
        "id": "NvZ3HdgVPZEq"
      },
      "execution_count": null,
      "outputs": []
    },
    {
      "cell_type": "code",
      "source": [
        "# to check duplicate record\n",
        "df.duplicated()"
      ],
      "metadata": {
        "id": "1dJBs4C4Pf_W"
      },
      "execution_count": null,
      "outputs": []
    },
    {
      "cell_type": "code",
      "source": [
        "# want to count the duplicate record\n",
        "df[df.duplicated()]"
      ],
      "metadata": {
        "id": "6CFYJEaEW8gE"
      },
      "execution_count": null,
      "outputs": []
    },
    {
      "cell_type": "code",
      "source": [
        "# if we have duplicate record and we want to drop them\n",
        "df.drop_duplicates(inplace=True)"
      ],
      "metadata": {
        "id": "BUpdhziUXWwJ"
      },
      "execution_count": null,
      "outputs": []
    },
    {
      "cell_type": "code",
      "source": [
        "# we want to see the relation  between the variable\n",
        "df.corr()\n",
        "# let's see the correlation"
      ],
      "metadata": {
        "id": "cZSgWqIoXumi"
      },
      "execution_count": null,
      "outputs": []
    },
    {
      "cell_type": "code",
      "source": [
        "# let's vishvalize these correlation\n",
        "plt.figure(figsize=(10,10))\n",
        "sns.heatmap(df.corr(),annot=True)"
      ],
      "metadata": {
        "id": "51QuEzxjYVL0"
      },
      "execution_count": null,
      "outputs": []
    },
    {
      "cell_type": "code",
      "source": [
        "# now we have a categorical data like quality is a ordinal data let's vishvalize it through bar graph\n",
        "df['quality'].value_counts().plot(kind='bar',color='red')"
      ],
      "metadata": {
        "id": "zGGErc71Y7FA"
      },
      "execution_count": null,
      "outputs": []
    },
    {
      "cell_type": "code",
      "source": [
        "sns.distplot(df['alcohol'],color='green')"
      ],
      "metadata": {
        "id": "8UeK-nA7zYwi"
      },
      "execution_count": null,
      "outputs": []
    },
    {
      "cell_type": "code",
      "source": [
        "sns.histplot(df['density'],kde=True)"
      ],
      "metadata": {
        "id": "twFFMqMD05Cl"
      },
      "execution_count": null,
      "outputs": []
    },
    {
      "cell_type": "code",
      "source": [
        "for i in df.columns:\n",
        "  sns.histplot(df[i],kde=True)\n"
      ],
      "metadata": {
        "id": "uNITHTW41YLi"
      },
      "execution_count": null,
      "outputs": []
    },
    {
      "cell_type": "code",
      "source": [
        "# let's build a categorical plot\n",
        "sns.catplot(x='quality',y='alcohol',data=df,kind='box',color='blue')"
      ],
      "metadata": {
        "id": "3MZqD52H1r9R"
      },
      "execution_count": null,
      "outputs": []
    },
    {
      "cell_type": "code",
      "source": [
        "sns.scatterplot(x='alcohol',y='pH',hue='quality',data=df)"
      ],
      "metadata": {
        "id": "2ctFix-F2iQd"
      },
      "execution_count": null,
      "outputs": []
    },
    {
      "cell_type": "code",
      "source": [],
      "metadata": {
        "id": "IqVrBrTv6npZ"
      },
      "execution_count": null,
      "outputs": []
    }
  ]
}