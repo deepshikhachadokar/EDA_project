{
  "nbformat": 4,
  "nbformat_minor": 0,
  "metadata": {
    "colab": {
      "private_outputs": true,
      "provenance": [],
      "authorship_tag": "ABX9TyN628Laa06y7gb7tq6TBUdB",
      "include_colab_link": true
    },
    "kernelspec": {
      "name": "python3",
      "display_name": "Python 3"
    },
    "language_info": {
      "name": "python"
    }
  },
  "cells": [
    {
      "cell_type": "markdown",
      "metadata": {
        "id": "view-in-github",
        "colab_type": "text"
      },
      "source": [
        "<a href=\"https://colab.research.google.com/github/deepshikhachadokar/EDA_project/blob/main/student_performance_eda.ipynb\" target=\"_parent\"><img src=\"https://colab.research.google.com/assets/colab-badge.svg\" alt=\"Open In Colab\"/></a>"
      ]
    },
    {
      "cell_type": "code",
      "execution_count": null,
      "metadata": {
        "id": "MyIECVPgXu6_"
      },
      "outputs": [],
      "source": [
        "#importing liberaries\n",
        "import numpy as np\n",
        "import pandas as pd\n",
        "import matplotlib.pyplot as plt\n",
        "import seaborn as sns"
      ]
    },
    {
      "cell_type": "code",
      "source": [
        "# importing data\n",
        "from google.colab import drive\n",
        "drive.mount('/content/drive')"
      ],
      "metadata": {
        "id": "8nv5PxR0YARq"
      },
      "execution_count": null,
      "outputs": []
    },
    {
      "cell_type": "code",
      "source": [
        "#storing data into dataframe\n",
        "df=pd.read_csv('/content/drive/My Drive/StudentsPerformance.csv')"
      ],
      "metadata": {
        "id": "OYp2g-LgYOBw"
      },
      "execution_count": null,
      "outputs": []
    },
    {
      "cell_type": "code",
      "source": [
        "# let's take a quick overview of data set\n",
        "df.head()"
      ],
      "metadata": {
        "id": "zfPTy4goZqCa"
      },
      "execution_count": null,
      "outputs": []
    },
    {
      "cell_type": "code",
      "source": [
        "df.shape"
      ],
      "metadata": {
        "id": "bkmG0an4bper"
      },
      "execution_count": null,
      "outputs": []
    },
    {
      "cell_type": "code",
      "source": [
        "#information\n",
        "df.info()"
      ],
      "metadata": {
        "id": "Csnh-NWJaAb_"
      },
      "execution_count": null,
      "outputs": []
    },
    {
      "cell_type": "code",
      "source": [
        "# checking for null values present in the data\n",
        "df.isnull().sum()"
      ],
      "metadata": {
        "id": "8V646MOmZwoh"
      },
      "execution_count": null,
      "outputs": []
    },
    {
      "cell_type": "code",
      "source": [
        "# checking for unique values\n",
        "df.nunique()"
      ],
      "metadata": {
        "id": "FO4XixgONLKT"
      },
      "execution_count": null,
      "outputs": []
    },
    {
      "cell_type": "code",
      "source": [
        "#for duplicate values\n",
        "df.duplicated().sum()"
      ],
      "metadata": {
        "id": "wV4ZNApoZ6s7"
      },
      "execution_count": null,
      "outputs": []
    },
    {
      "cell_type": "code",
      "source": [
        "#for descriptive statistics\n",
        "df.describe()"
      ],
      "metadata": {
        "id": "PE-hcsgPaN3c"
      },
      "execution_count": null,
      "outputs": []
    },
    {
      "cell_type": "code",
      "source": [
        "df.corr()"
      ],
      "metadata": {
        "id": "ZWASM7qEaYZ7"
      },
      "execution_count": null,
      "outputs": []
    },
    {
      "cell_type": "code",
      "source": [
        "plt.figure(figsize=(10,6))\n",
        "sns.heatmap(df.corr(),annot=True)"
      ],
      "metadata": {
        "id": "endiodzbad80"
      },
      "execution_count": null,
      "outputs": []
    },
    {
      "cell_type": "code",
      "source": [
        "# let seggregate numerical fetures and categorical features\n",
        "column=df.columns"
      ],
      "metadata": {
        "id": "NmjLiVNpayzi"
      },
      "execution_count": null,
      "outputs": []
    },
    {
      "cell_type": "code",
      "source": [
        "[feature for feature in df.columns]"
      ],
      "metadata": {
        "id": "mbxLmzGANsGz"
      },
      "execution_count": null,
      "outputs": []
    },
    {
      "cell_type": "code",
      "execution_count": null,
      "metadata": {
        "id": "77069ae1-70ba-4bd5-99be-8bd12528562e"
      },
      "outputs": [],
      "source": [
        "[feature for feature in df.columns if df[feature].dtype=='O']"
      ]
    },
    {
      "cell_type": "code",
      "source": [
        "#seprate the numerical features and categorical features\n",
        "numerical_features=[feature for feature in df.columns if df[feature].dtype==int]\n",
        "categorical_feature=[feature for feature in df.columns if df[feature].dtype!=int]"
      ],
      "metadata": {
        "id": "AlQBmhLRhYc2"
      },
      "execution_count": null,
      "outputs": []
    },
    {
      "cell_type": "code",
      "source": [
        "numerical_features"
      ],
      "metadata": {
        "id": "3YoZx7_LO5zJ"
      },
      "execution_count": null,
      "outputs": []
    },
    {
      "cell_type": "code",
      "source": [
        "categorical_feature"
      ],
      "metadata": {
        "id": "irXI-XC0O9Gc"
      },
      "execution_count": null,
      "outputs": []
    },
    {
      "cell_type": "code",
      "source": [
        "# unique values of gender\n",
        "df['gender'].value_counts()"
      ],
      "metadata": {
        "id": "N7UDt5NrPFPW"
      },
      "execution_count": null,
      "outputs": []
    },
    {
      "cell_type": "code",
      "source": [
        "# let's combine all numerical ferature and take its percentage\n",
        "df['total']=df['math score']+df['reading score']+df['writing score']\n",
        "df['average']=df['total']/3\n",
        "df.head()"
      ],
      "metadata": {
        "id": "wMr7jfn2P1wf"
      },
      "execution_count": null,
      "outputs": []
    },
    {
      "cell_type": "code",
      "source": [
        "fig,axis=plt.subplots(1,2,figsize=(15,7))\n",
        "plt.subplot(121)\n",
        "sns.histplot(data=df,x='average',bins=30,kde=True,color='g')\n",
        "plt.subplot(122)\n",
        "sns.histplot(data=df,x='average',bins=30,kde=True,hue='gender')"
      ],
      "metadata": {
        "id": "2YaEsZwHYBh_"
      },
      "execution_count": null,
      "outputs": []
    },
    {
      "cell_type": "markdown",
      "source": [
        "Female performs well than man's"
      ],
      "metadata": {
        "id": "6tFyTwdt3IvO"
      }
    },
    {
      "cell_type": "code",
      "source": [
        "fig,axis=plt.subplots(1,2,figsize=(15,7))\n",
        "plt.subplot(212)\n",
        "sns.histplot(data=df,x='parental level of education',bins=30,kde=True,color='r',hue='gender')\n"
      ],
      "metadata": {
        "id": "YRKsLH8Xc9SY"
      },
      "execution_count": null,
      "outputs": []
    },
    {
      "cell_type": "code",
      "source": [
        "fig,axis=plt.subplots(1,3,figsize=(20,4))\n",
        "ax =sns.histplot(data=df[df.gender=='female'],x='average',kde=True,hue='race/ethnicity',label='female')\n",
        "plt.subplot(121)\n",
        "ax =sns.histplot(data=df[df.gender=='male'],x='average',kde=True,hue='race/ethnicity',legend=True)\n"
      ],
      "metadata": {
        "id": "Rxtumsi28Kj6"
      },
      "execution_count": null,
      "outputs": []
    },
    {
      "cell_type": "code",
      "source": [],
      "metadata": {
        "id": "vv1Qg-NY9y3D"
      },
      "execution_count": null,
      "outputs": []
    }
  ]
}